{
 "cells": [
  {
   "cell_type": "markdown",
   "metadata": {},
   "source": [
    "# STUDENTS PERFORMANCE IN EXAMS: \n",
    "### EXPLORING CORRELATION + PPSCORE PACKAGE REVIEW"
   ]
  },
  {
   "cell_type": "markdown",
   "metadata": {},
   "source": [
    "This is a [Kaggle task inspired notebook](https://www.kaggle.com/spscientist/students-performance-in-exams/tasks?taskId=280).\n",
    "\n",
    "Main objective is to figure out if a correlation exists between the different attributes that are in the dataset. Working both with continuous and categorical variables.\n",
    "\n",
    "To add a little more mystery the PPS package is also tested in this notebook. The PPS describes itself as an alternative to the correlation able to find more patterns in the data. I heard about this package in this [post](https://8080labs.com/blog/posts/rip-correlation-introducing-the-predictive-power-score-pps/)."
   ]
  },
  {
   "cell_type": "code",
   "execution_count": null,
   "metadata": {},
   "outputs": [],
   "source": [
    "# Import necessary libraries:\n",
    "import pandas as pd\n",
    "import numpy as np\n",
    "import matplotlib.pyplot as plt\n",
    "import seaborn as sns\n",
    "import ppscore as ppscore\n",
    "from sklearn.preprocessing import OneHotEncoder\n",
    "%matplotlib inline"
   ]
  },
  {
   "cell_type": "code",
   "execution_count": null,
   "metadata": {},
   "outputs": [],
   "source": [
    "data=pd.read_csv('./input/StudentsPerformance.csv')\n",
    "data.head()"
   ]
  },
  {
   "cell_type": "code",
   "execution_count": null,
   "metadata": {},
   "outputs": [],
   "source": [
    "data.info()"
   ]
  },
  {
   "cell_type": "markdown",
   "metadata": {},
   "source": [
    "There is no null values in any variable, so by the moment no prior processing will take place."
   ]
  },
  {
   "cell_type": "markdown",
   "metadata": {},
   "source": [
    "Fields in detail:"
   ]
  },
  {
   "cell_type": "code",
   "execution_count": null,
   "metadata": {},
   "outputs": [],
   "source": [
    "for feature in data.columns:\n",
    "    uniq = np.unique(data[feature])\n",
    "    print('{}: {} distinct values -  {}'.format(feature,len(uniq),uniq))"
   ]
  },
  {
   "cell_type": "markdown",
   "metadata": {},
   "source": [
    "### INDEX\n",
    "\n",
    "* 1. [Correlation with Original Data](#first-bullet)\n",
    "* 2. [Correlation encoding categorical variables](#second-bullet)\n",
    "    * 2.1. [Label Encoding](#label-encoding) \n",
    "    * 2.2. [One-Hot Encoding](#one-hot-encoding)\n",
    "* 3. [Bonus: Testing PPSCORE package](#third-bullet)\n"
   ]
  },
  {
   "cell_type": "markdown",
   "metadata": {},
   "source": [
    "## 1. Correlation with Original Data <a class=\"anchor\" id=\"first-bullet\"></a>"
   ]
  },
  {
   "cell_type": "markdown",
   "metadata": {},
   "source": [
    "We will use the Pandas function *dataframe.corr()* to find the correlation between numeric variables only. \n",
    "The return of this function give us a score ranging from -1 to 1 that indicates if there is a strong linear relationship in a positive or negative direction."
   ]
  },
  {
   "cell_type": "code",
   "execution_count": null,
   "metadata": {},
   "outputs": [],
   "source": [
    "corr = data.corr()\n",
    "print(corr)"
   ]
  },
  {
   "cell_type": "code",
   "execution_count": null,
   "metadata": {},
   "outputs": [],
   "source": [
    "# Set up the matplotlib figure\n",
    "f, ax = plt.subplots(figsize=(11, 9))\n",
    "plt.title('Correlation Analysis with Original Data')\n",
    "# Draw the heatmap with the mask and correct aspect ratio\n",
    "ca = sns.heatmap(corr, cmap='coolwarm',center=0, vmin = -1,\n",
    "            square=True, linewidths=1, cbar_kws={\"shrink\": .8}, annot = True)"
   ]
  },
  {
   "cell_type": "code",
   "execution_count": null,
   "metadata": {},
   "outputs": [],
   "source": [
    "sns.set(style=\"ticks\", color_codes=True)\n",
    "g = sns.pairplot(data)"
   ]
  },
  {
   "cell_type": "markdown",
   "metadata": {},
   "source": [
    "Looking at the scores and the graphs we can say that the three scores are highly related, students who do well in one subject are more likely to do well in the other subjects.\n",
    "\n",
    "**Math, reading and writing score are have a strong positive linear relationship.**"
   ]
  },
  {
   "cell_type": "markdown",
   "metadata": {},
   "source": [
    "## 2. Working with categorical variables <a class=\"anchor\" id=\"second-bullet\"></a>"
   ]
  },
  {
   "cell_type": "markdown",
   "metadata": {},
   "source": [
    "We are going to explore two options here: label encoding and one-hot encoding."
   ]
  },
  {
   "cell_type": "markdown",
   "metadata": {},
   "source": [
    "### 2.1 Label Encoding <a class=\"anchor\" id=\"label-encoding\"></a>"
   ]
  },
  {
   "cell_type": "markdown",
   "metadata": {},
   "source": [
    "This approach consists in converting each value in a column to a number: in column *Lunch* 'standard' will be represented by a 1 and 'free/reduced' by a 0."
   ]
  },
  {
   "cell_type": "code",
   "execution_count": null,
   "metadata": {},
   "outputs": [],
   "source": [
    "data_label_encoding = data.copy()"
   ]
  },
  {
   "cell_type": "code",
   "execution_count": null,
   "metadata": {},
   "outputs": [],
   "source": [
    "# Another option using sklearn:\n",
    "\n",
    "# from sklearn.preprocessing import LabelEncoder\n",
    "# creating instance of labelencoder\n",
    "# labelencoder = LabelEncoder()\n",
    "# Assigning numerical values and storing in another column\n",
    "# bridge_df['Bridge_Types_Cat'] = labelencoder.fit_transform(bridge_df['Bridge_Types'])"
   ]
  },
  {
   "cell_type": "code",
   "execution_count": null,
   "metadata": {},
   "outputs": [],
   "source": [
    "# converting type of columns to 'category'\n",
    "data_label_encoding['gender']= data_label_encoding['gender'].astype('category')\n",
    "data_label_encoding['race/ethnicity']= data_label_encoding['race/ethnicity'].astype('category')\n",
    "data_label_encoding['parental level of education']= data_label_encoding['parental level of education'].astype('category')\n",
    "data_label_encoding['lunch']= data_label_encoding['lunch'].astype('category')\n",
    "data_label_encoding['test preparation course']= data_label_encoding['test preparation course'].astype('category')"
   ]
  },
  {
   "cell_type": "code",
   "execution_count": null,
   "metadata": {},
   "outputs": [],
   "source": [
    "# Assigning numerical values and storing in another column\n",
    "data_label_encoding['gender_cat']= data_label_encoding['gender'].cat.codes\n",
    "data_label_encoding['race/ethnicity_cat']= data_label_encoding['race/ethnicity'].cat.codes\n",
    "data_label_encoding['parental level of education_cat']= data_label_encoding['parental level of education'].cat.codes\n",
    "data_label_encoding['lunch_cat']= data_label_encoding['lunch'].cat.codes\n",
    "data_label_encoding['test preparation course_cat']= data_label_encoding['test preparation course'].cat.codes"
   ]
  },
  {
   "cell_type": "code",
   "execution_count": null,
   "metadata": {},
   "outputs": [],
   "source": [
    "data_label_encoding.info()"
   ]
  },
  {
   "cell_type": "code",
   "execution_count": null,
   "metadata": {
    "scrolled": false
   },
   "outputs": [],
   "source": [
    "corr_label_encoding = data_label_encoding.corr()\n",
    "\n",
    "# Set up the matplotlib figure\n",
    "f, ax = plt.subplots(figsize=(11, 9))\n",
    "plt.title('Correlation Analysis with Label Encoding')\n",
    "# Draw the heatmap with the mask and correct aspect ratio\n",
    "ca = sns.heatmap(corr_label_encoding, cmap='coolwarm',center=0, vmin = -1,\n",
    "            square=True, linewidths=1, cbar_kws={\"shrink\": .8}, annot = True)"
   ]
  },
  {
   "cell_type": "markdown",
   "metadata": {},
   "source": [
    "Label encoding has one great disadvantage: the numeric values may be misinterpreted by algorithms as having some kind of order. If gender / race category assinged group A, B, C, D and E to values 0, 1, 2, 3 and 4 respectively it may be assumed by the algorithm that somehow group E is hierarchically greater than group A."
   ]
  },
  {
   "cell_type": "markdown",
   "metadata": {},
   "source": [
    "https://stackoverflow.com/questions/47894387/how-to-correlate-an-ordinal-categorical-column-in-pandas"
   ]
  },
  {
   "cell_type": "markdown",
   "metadata": {},
   "source": [
    "### 2.2 One-Hot Encoding <a class=\"anchor\" id=\"one-hot-encoding\"></a>"
   ]
  },
  {
   "cell_type": "markdown",
   "metadata": {},
   "source": [
    "This approach consists in breaking each possible option of each categorical variable to features of value 1 or 0."
   ]
  },
  {
   "cell_type": "code",
   "execution_count": null,
   "metadata": {},
   "outputs": [],
   "source": [
    "data_onehotencoding = data.copy()"
   ]
  },
  {
   "cell_type": "code",
   "execution_count": null,
   "metadata": {},
   "outputs": [],
   "source": [
    "data_onehotencoding = pd.get_dummies(data_onehotencoding, columns=['gender', 'race/ethnicity', 'parental level of education', 'lunch',\n",
    "       'test preparation course'])"
   ]
  },
  {
   "cell_type": "markdown",
   "metadata": {},
   "source": [
    "Another option is to use function OneHotEncoder() from sklearn. I do prefer this approach cause it allows you to encode as many category columns as you want while the sklearn method one takes one at a time and it drops the columns name. I consider this option more user-friendly and easy to understand."
   ]
  },
  {
   "cell_type": "code",
   "execution_count": null,
   "metadata": {},
   "outputs": [],
   "source": [
    "corr_label_encoding = data_onehotencoding.corr()\n",
    "\n",
    "# Set up the matplotlib figure\n",
    "f, ax = plt.subplots(figsize=(14, 14))\n",
    "plt.title('Correlation Analysis with One-Hot Encoding')\n",
    "# Draw the heatmap with the mask and correct aspect ratio\n",
    "ca = sns.heatmap(corr_label_encoding, cmap='coolwarm',center=0, vmin = -1,\n",
    "            square=True, linewidths=1, cbar_kws={\"shrink\": .8}, annot = True)"
   ]
  },
  {
   "cell_type": "markdown",
   "metadata": {},
   "source": [
    "Contra: harder to interpret"
   ]
  },
  {
   "cell_type": "code",
   "execution_count": null,
   "metadata": {},
   "outputs": [],
   "source": []
  },
  {
   "cell_type": "code",
   "execution_count": null,
   "metadata": {},
   "outputs": [],
   "source": []
  },
  {
   "cell_type": "markdown",
   "metadata": {},
   "source": [
    "https://www.kaggle.com/shakedzy/alone-in-the-woods-using-theil-s-u-for-survival \n",
    "\n",
    "https://towardsdatascience.com/the-search-for-categorical-correlation-a1cf7f1888c9\n",
    "\n",
    "But what about a pair of a continuous feature and a categorical feature? For this, we can use the Correlation Ratio (often marked using the greek letter eta). Mathematically, it is defined as the weighted variance of the mean of each category divided by the variance of all samples; in human language, the Correlation Ratio answers the following question: Given a continuous number, how well can you know to which category it belongs to? Just like the two coefficients we’ve seen before, here too the output is on the range of [0,1]."
   ]
  },
  {
   "cell_type": "markdown",
   "metadata": {},
   "source": [
    "### 2.4 Conclusions <a class=\"anchor\" id=\"second-bullet\"></a>"
   ]
  },
  {
   "cell_type": "code",
   "execution_count": null,
   "metadata": {},
   "outputs": [],
   "source": [
    "# Create an instance of the PairGrid class.\n",
    "grid = sns.PairGrid(data= data_label_encoding)\n",
    "\n",
    "# Map a scatter plot to the upper triangle\n",
    "grid = grid.map_upper(plt.scatter)\n",
    "\n",
    "# Map a histogram to the diagonal\n",
    "grid = grid.map_diag(plt.hist, bins = 10, \n",
    "                     edgecolor = 'k')\n",
    "# Map a density plot to the lower triangle\n",
    "grid = grid.map_lower(sns.kdeplot)\n",
    "\n",
    "grid.fig.set_size_inches(12,12)"
   ]
  },
  {
   "cell_type": "code",
   "execution_count": null,
   "metadata": {},
   "outputs": [],
   "source": []
  },
  {
   "cell_type": "markdown",
   "metadata": {},
   "source": [
    "By looking at "
   ]
  },
  {
   "cell_type": "markdown",
   "metadata": {},
   "source": [
    "### Gender <a class=\"anchor\" id=\"gender-influence\"></a>"
   ]
  },
  {
   "cell_type": "code",
   "execution_count": null,
   "metadata": {},
   "outputs": [],
   "source": [
    "dt_tmp = data_label_encoding[['math score', 'reading score', 'writing score', 'gender']]\n",
    "dt_tmp = dt_tmp.melt(id_vars = ['gender'])"
   ]
  },
  {
   "cell_type": "code",
   "execution_count": null,
   "metadata": {},
   "outputs": [],
   "source": [
    "# Set up the matplotlib figure\n",
    "f, ax = plt.subplots(figsize=(11, 7))\n",
    "plt.title('Gender influence in math, reading and writing scores')\n",
    "violin_gender = sns.violinplot(x=\"variable\", y=\"value\", hue=\"gender\",\n",
    "                     data=dt_tmp, palette=\"coolwarm\", split=True,\n",
    "                     scale=\"count\", inner=\"quartile\", bw=.1)\n",
    "plt.legend(bbox_to_anchor=(1.05, 1), loc=2, borderaxespad=0.)"
   ]
  },
  {
   "cell_type": "markdown",
   "metadata": {},
   "source": [
    "### Test Preparation <a class=\"anchor\" id=\"test-preparation-influence\"></a>"
   ]
  },
  {
   "cell_type": "code",
   "execution_count": null,
   "metadata": {},
   "outputs": [],
   "source": [
    "dt_tmp = data_label_encoding[['math score', 'reading score', 'writing score', 'test preparation course']]\n",
    "dt_tmp = dt_tmp.melt(id_vars = ['test preparation course'])"
   ]
  },
  {
   "cell_type": "code",
   "execution_count": null,
   "metadata": {},
   "outputs": [],
   "source": [
    "# Set up the matplotlib figure\n",
    "f, ax = plt.subplots(figsize=(11, 7))\n",
    "plt.title('Test preparation course influence in math, reading and writing scores')\n",
    "violin_gender = sns.violinplot(x=\"variable\", y=\"value\", hue=\"test preparation course\",\n",
    "                     data=dt_tmp, palette=\"coolwarm\", split=True,\n",
    "                     scale=\"count\", inner=\"quartile\", bw=.1)\n",
    "plt.legend(bbox_to_anchor=(1.05, 1), loc=2, borderaxespad=0.)"
   ]
  },
  {
   "cell_type": "markdown",
   "metadata": {},
   "source": [
    "### Race/Ethnicity <a class=\"anchor\" id=\"race-ethnicity-influence\"></a>"
   ]
  },
  {
   "cell_type": "code",
   "execution_count": null,
   "metadata": {},
   "outputs": [],
   "source": [
    "dt_tmp = data_label_encoding[['math score', 'reading score', 'writing score', 'race/ethnicity']]\n",
    "dt_tmp = dt_tmp.melt(id_vars = ['race/ethnicity'])"
   ]
  },
  {
   "cell_type": "code",
   "execution_count": null,
   "metadata": {},
   "outputs": [],
   "source": [
    "# Set up the matplotlib figure\n",
    "f, ax = plt.subplots(figsize=(11, 7))\n",
    "plt.title('Race / Ethnicity influence in math, reading and writing scores')\n",
    "violin_gender = sns.violinplot(x=\"variable\", y=\"value\", hue=\"race/ethnicity\",\n",
    "                     data=dt_tmp, palette=\"coolwarm\", \n",
    "                     scale=\"count\", inner=\"quartile\", bw=.1)\n",
    "plt.legend(bbox_to_anchor=(1.05, 1), loc=2, borderaxespad=0.)"
   ]
  },
  {
   "cell_type": "markdown",
   "metadata": {},
   "source": [
    "### Lunch <a class=\"anchor\" id=\"lunch-influence\"></a>"
   ]
  },
  {
   "cell_type": "code",
   "execution_count": null,
   "metadata": {},
   "outputs": [],
   "source": [
    "dt_tmp = data_label_encoding[['math score', 'reading score', 'writing score', 'lunch']]\n",
    "dt_tmp = dt_tmp.melt(id_vars = ['lunch'])"
   ]
  },
  {
   "cell_type": "code",
   "execution_count": null,
   "metadata": {},
   "outputs": [],
   "source": [
    "# Set up the matplotlib figure\n",
    "f, ax = plt.subplots(figsize=(11, 7))\n",
    "plt.title('Test preparation course influence in math, reading and writing scores')\n",
    "violin_gender = sns.violinplot(x=\"variable\", y=\"value\", hue=\"lunch\",\n",
    "                     data=dt_tmp, palette=\"coolwarm\", split=True,\n",
    "                     scale=\"count\", inner=\"quartile\", bw=.1)\n",
    "plt.legend(bbox_to_anchor=(1.05, 1), loc=2, borderaxespad=0.)"
   ]
  },
  {
   "cell_type": "markdown",
   "metadata": {},
   "source": [
    "### Parental Education <a class=\"anchor\" id=\"parental-education-influence\"></a>"
   ]
  },
  {
   "cell_type": "code",
   "execution_count": null,
   "metadata": {},
   "outputs": [],
   "source": [
    "dt_tmp = data_label_encoding[['math score', 'reading score', 'writing score', 'parental level of education']]\n",
    "dt_tmp = dt_tmp.melt(id_vars = ['parental level of education'])"
   ]
  },
  {
   "cell_type": "code",
   "execution_count": null,
   "metadata": {},
   "outputs": [],
   "source": [
    "# Set up the matplotlib figure\n",
    "f, ax = plt.subplots(figsize=(11, 7))\n",
    "plt.title('Race / Ethnicity influence in math, reading and writing scores')\n",
    "violin_gender = sns.violinplot(x=\"variable\", y=\"value\", hue=\"parental level of education\",\n",
    "                     data=dt_tmp, palette=\"coolwarm\", \n",
    "                     scale=\"count\", inner=\"quartile\", bw=.1)\n",
    "plt.legend(bbox_to_anchor=(1.05, 1), loc=2, borderaxespad=0.)"
   ]
  },
  {
   "cell_type": "code",
   "execution_count": null,
   "metadata": {},
   "outputs": [],
   "source": []
  },
  {
   "cell_type": "code",
   "execution_count": null,
   "metadata": {},
   "outputs": [],
   "source": []
  },
  {
   "cell_type": "code",
   "execution_count": null,
   "metadata": {},
   "outputs": [],
   "source": []
  },
  {
   "cell_type": "markdown",
   "metadata": {},
   "source": [
    "## 3. Bonus: Testing PPSCORE package <a class=\"anchor\" id=\"third-bullet\"></a>"
   ]
  },
  {
   "cell_type": "code",
   "execution_count": null,
   "metadata": {},
   "outputs": [],
   "source": [
    "# Reorder columns so we have scores in the same order as in section 2 and its easier to compare\n",
    "data = data[['math score', 'reading score', 'writing score', 'gender', 'race/ethnicity', 'parental level of education', 'lunch',\n",
    "       'test preparation course']]"
   ]
  },
  {
   "cell_type": "code",
   "execution_count": null,
   "metadata": {},
   "outputs": [],
   "source": [
    "ppmatrix = ppscore.matrix(data)"
   ]
  },
  {
   "cell_type": "code",
   "execution_count": null,
   "metadata": {},
   "outputs": [],
   "source": [
    "# Set up the matplotlib figure\n",
    "f, ax = plt.subplots(figsize=(11, 9))\n",
    "plt.title('Relationship Analysis with PPSCORE')\n",
    "\n",
    "ra_ppscore = sns.heatmap(ppmatrix, vmin=0, vmax=1, cmap=\"coolwarm\", linewidths=1, annot=True, \n",
    "            square = True, cbar_kws={\"shrink\": .8})"
   ]
  },
  {
   "cell_type": "code",
   "execution_count": null,
   "metadata": {},
   "outputs": [],
   "source": [
    "# Gender, lunch and Test preparation"
   ]
  },
  {
   "cell_type": "code",
   "execution_count": null,
   "metadata": {},
   "outputs": [],
   "source": []
  },
  {
   "cell_type": "markdown",
   "metadata": {},
   "source": [
    "## 4. Conclusions"
   ]
  },
  {
   "cell_type": "markdown",
   "metadata": {},
   "source": [
    "Fun correlation does not imply causation example: http://web.stanford.edu/class/hrp259/2007/regression/storke.pdf"
   ]
  },
  {
   "cell_type": "code",
   "execution_count": null,
   "metadata": {},
   "outputs": [],
   "source": []
  }
 ],
 "metadata": {
  "kernelspec": {
   "display_name": "Python 3",
   "language": "python",
   "name": "python3"
  },
  "language_info": {
   "codemirror_mode": {
    "name": "ipython",
    "version": 3
   },
   "file_extension": ".py",
   "mimetype": "text/x-python",
   "name": "python",
   "nbconvert_exporter": "python",
   "pygments_lexer": "ipython3",
   "version": "3.7.3"
  }
 },
 "nbformat": 4,
 "nbformat_minor": 4
}
